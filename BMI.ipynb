{
 "cells": [
  {
   "cell_type": "code",
   "execution_count": 40,
   "id": "65c85137",
   "metadata": {},
   "outputs": [],
   "source": [
    "import json\n",
    "import pandas as pd\n",
    "import os\n",
    "import warnings\n",
    "warnings.filterwarnings('ignore')"
   ]
  },
  {
   "cell_type": "code",
   "execution_count": 41,
   "id": "cce2092f",
   "metadata": {},
   "outputs": [],
   "source": [
    "def BMI_table(bmi):\n",
    "    bmi_category = ''\n",
    "    health_risk = ''\n",
    "    bmi_table = dict()\n",
    "    if bmi<=18.4:\n",
    "        bmi_category=\"Underweight\", \n",
    "        health_risk=\"Malnutrition risk\"\n",
    "    elif bmi>=18.5 and bmi<=24.9:\n",
    "        bmi_category= \"Normal weight\"\n",
    "        health_risk=\"Low risk\"\n",
    "    elif bmi>=25 and bmi<=29.9:\n",
    "        bmi_category=\"Overwight\"\n",
    "        health_risk=\"Enhanced risk\"\n",
    "    elif bmi>=30 and bmi<=34.9:\n",
    "        bmi_category=\"Moderately obese\"\n",
    "        health_risk=\"Medium risk\"\n",
    "    elif bmi>=35 and bmi<=39.9:\n",
    "        bmi_category=\"Severely obese\"\n",
    "        health_risk=\"High risk\"\n",
    "    else:\n",
    "        bmi_category=\"Very severely obese\"\n",
    "        health_risk=\"Very high risk\"\n",
    "    return str(bmi_category) + ',' + str(health_risk)"
   ]
  },
  {
   "cell_type": "code",
   "execution_count": 42,
   "id": "5caa4b50",
   "metadata": {},
   "outputs": [],
   "source": [
    "def BMI_calc(file_name):\n",
    "    if not (os.path.exists(file_name)):\n",
    "        print('file dosent exists')\n",
    "        return\n",
    "    df = pd.read_json(file_name)\n",
    "    df['BMI'] = df['WeightKg']/(df['HeightCm']*0.01)\n",
    "    df[['BMI Category','Health risk']] = df['BMI'].apply(BMI_table).apply(lambda x: x.split(',')).tolist()\n",
    "    over = df[df['BMI Category']=='Overweight'].shape[0]\n",
    "    print('Number of obese {}'.format(over))\n",
    "    json_file = df.to_json(orient='columns')\n",
    "    with open('Output.json','w') as f:\n",
    "        f.write(json_file)\n",
    "    print('Output file written as Output.json')"
   ]
  },
  {
   "cell_type": "code",
   "execution_count": null,
   "id": "c213e73e",
   "metadata": {},
   "outputs": [],
   "source": []
  }
 ],
 "metadata": {
  "kernelspec": {
   "display_name": "Python 3 (ipykernel)",
   "language": "python",
   "name": "python3"
  },
  "language_info": {
   "codemirror_mode": {
    "name": "ipython",
    "version": 3
   },
   "file_extension": ".py",
   "mimetype": "text/x-python",
   "name": "python",
   "nbconvert_exporter": "python",
   "pygments_lexer": "ipython3",
   "version": "3.8.12"
  }
 },
 "nbformat": 4,
 "nbformat_minor": 5
}
